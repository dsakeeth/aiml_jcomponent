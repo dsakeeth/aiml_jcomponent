{
  "nbformat": 4,
  "nbformat_minor": 0,
  "metadata": {
    "colab": {
      "name": "SUPPORT_VECTOR_MACHINE",
      "provenance": [],
      "collapsed_sections": []
    },
    "kernelspec": {
      "name": "python3",
      "display_name": "Python 3"
    },
    "language_info": {
      "name": "python"
    }
  },
  "cells": [
    {
      "cell_type": "code",
      "execution_count": null,
      "metadata": {
        "id": "dF1aSAeVxmAB"
      },
      "outputs": [],
      "source": [
        ""
      ]
    },
    {
      "cell_type": "code",
      "source": [
        "from google.colab import drive\n",
        "drive.mount('/content/drive')"
      ],
      "metadata": {
        "colab": {
          "base_uri": "https://localhost:8080/"
        },
        "id": "jugugmqek_Pq",
        "outputId": "a40bedbd-a944-4572-fe26-07bf361f8a0b"
      },
      "execution_count": 1,
      "outputs": [
        {
          "output_type": "stream",
          "name": "stdout",
          "text": [
            "Mounted at /content/drive\n"
          ]
        }
      ]
    },
    {
      "cell_type": "code",
      "source": [
        "import pandas as pd\n",
        "import numpy as np\n",
        "import matplotlib.pyplot as plt\n",
        "import math"
      ],
      "metadata": {
        "id": "IMoOTUsxOQwd"
      },
      "execution_count": 2,
      "outputs": []
    },
    {
      "cell_type": "code",
      "source": [
        "d=pd.read_csv('/content/drive/MyDrive/AIMLJCOMPNENT.csv')"
      ],
      "metadata": {
        "id": "1-k_YbWaPDkk"
      },
      "execution_count": 3,
      "outputs": []
    },
    {
      "cell_type": "code",
      "source": [
        "x=d.iloc[:,0:15]\n",
        "y=d.iloc[:,15:16]"
      ],
      "metadata": {
        "id": "5s1XlSunmE9E"
      },
      "execution_count": 4,
      "outputs": []
    },
    {
      "cell_type": "code",
      "source": [
        "from sklearn.model_selection import train_test_split\n",
        "x_train,x_test,y_train,y_test=train_test_split(x,y,test_size=0.2,random_state=15)"
      ],
      "metadata": {
        "id": "skvIj6CfmPL7"
      },
      "execution_count": 5,
      "outputs": []
    },
    {
      "cell_type": "code",
      "source": [
        "print(x_train)"
      ],
      "metadata": {
        "colab": {
          "base_uri": "https://localhost:8080/"
        },
        "id": "V3UoW6xjm58q",
        "outputId": "44e37523-bf8f-430b-96a2-c76933a0544e"
      },
      "execution_count": 6,
      "outputs": [
        {
          "output_type": "stream",
          "name": "stdout",
          "text": [
            "     GENDER  AGE  S0OKING  YELLOW_1INGERS  ANXIETY  PEER_PRESSURE  \\\n",
            "127       0   58        2               2        2              2   \n",
            "97        0   59        2               1        1              2   \n",
            "142       0   65        2               2        2              2   \n",
            "50        1   56        1               1        1              2   \n",
            "106       1   61        2               2        2              2   \n",
            "..      ...  ...      ...             ...      ...            ...   \n",
            "199       1   55        2               1        1              2   \n",
            "155       0   75        2               2        2              2   \n",
            "156       0   47        2               2        1              1   \n",
            "133       0   76        2               1        1              1   \n",
            "245       0   59        1               1        1              2   \n",
            "\n",
            "     CHRONIC DISEASE  1ATIGUE   ALLERGY   WHEEZING  ALCOHOL CONSU0ING  \\\n",
            "127                2         1         1         1                  2   \n",
            "97                 1         1         1         1                  2   \n",
            "142                1         2         2         1                  1   \n",
            "50                 2         2         2         2                  2   \n",
            "106                2         2         1         1                  1   \n",
            "..               ...       ...       ...       ...                ...   \n",
            "199                2         2         2         2                  2   \n",
            "155                2         1         1         1                  1   \n",
            "156                2         1         1         1                  1   \n",
            "133                1         2         2         2                  2   \n",
            "245                1         2         1         2                  1   \n",
            "\n",
            "     COUGHING  SHORTNESS O1 BREATH  SWALLOWING DI11ICULTY  CHEST PAIN  \n",
            "127         1                    1                      2           2  \n",
            "97          2                    2                      1           1  \n",
            "142         1                    2                      2           1  \n",
            "50          1                    1                      1           2  \n",
            "106         1                    2                      2           1  \n",
            "..        ...                  ...                    ...         ...  \n",
            "199         1                    1                      2           2  \n",
            "155         1                    1                      1           2  \n",
            "156         1                    1                      1           2  \n",
            "133         2                    2                      1           2  \n",
            "245         1                    2                      1           2  \n",
            "\n",
            "[247 rows x 15 columns]\n"
          ]
        }
      ]
    },
    {
      "cell_type": "code",
      "source": [
        "print(x_test)"
      ],
      "metadata": {
        "colab": {
          "base_uri": "https://localhost:8080/"
        },
        "id": "VCiJH-WcnQAz",
        "outputId": "5ef449d1-3ef2-49e1-a794-f487077a0a44"
      },
      "execution_count": 7,
      "outputs": [
        {
          "output_type": "stream",
          "name": "stdout",
          "text": [
            "     GENDER  AGE  S0OKING  YELLOW_1INGERS  ANXIETY  PEER_PRESSURE  \\\n",
            "80        1   58        1               1        1              1   \n",
            "52        1   54        2               1        1              2   \n",
            "254       0   74        1               2        1              1   \n",
            "170       0   54        1               2        1              2   \n",
            "264       0   70        2               1        1              1   \n",
            "..      ...  ...      ...             ...      ...            ...   \n",
            "200       1   63        1               1        1              2   \n",
            "30        1   57        2               2        1              1   \n",
            "121       0   64        1               1        1              1   \n",
            "249       0   68        2               1        2              1   \n",
            "282       0   46        1               2        2              1   \n",
            "\n",
            "     CHRONIC DISEASE  1ATIGUE   ALLERGY   WHEEZING  ALCOHOL CONSU0ING  \\\n",
            "80                 1         2         1         1                  1   \n",
            "52                 1         2         2         2                  2   \n",
            "254                2         2         2         2                  2   \n",
            "170                2         2         2         2                  2   \n",
            "264                1         2         1         2                  2   \n",
            "..               ...       ...       ...       ...                ...   \n",
            "200                1         1         1         2                  2   \n",
            "30                 1         1         1         1                  1   \n",
            "121                2         2         2         2                  2   \n",
            "249                1         2         1         1                  1   \n",
            "282                1         1         1         1                  1   \n",
            "\n",
            "     COUGHING  SHORTNESS O1 BREATH  SWALLOWING DI11ICULTY  CHEST PAIN  \n",
            "80          1                    2                      1           1  \n",
            "52          2                    1                      2           2  \n",
            "254         2                    2                      1           2  \n",
            "170         2                    1                      2           2  \n",
            "264         2                    2                      1           2  \n",
            "..        ...                  ...                    ...         ...  \n",
            "200         1                    1                      2           2  \n",
            "30          1                    2                      1           1  \n",
            "121         2                    2                      1           2  \n",
            "249         1                    1                      1           1  \n",
            "282         1                    1                      2           2  \n",
            "\n",
            "[62 rows x 15 columns]\n"
          ]
        }
      ]
    },
    {
      "cell_type": "code",
      "source": [
        "print(y_train)"
      ],
      "metadata": {
        "colab": {
          "base_uri": "https://localhost:8080/"
        },
        "id": "7VVhokjjnW5a",
        "outputId": "c857829a-8f36-4b6e-a645-aa1b14af8bf3"
      },
      "execution_count": 8,
      "outputs": [
        {
          "output_type": "stream",
          "name": "stdout",
          "text": [
            "     LUNG_CANCER\n",
            "127            0\n",
            "97             0\n",
            "142            0\n",
            "50             0\n",
            "106            0\n",
            "..           ...\n",
            "199            0\n",
            "155            0\n",
            "156            1\n",
            "133            0\n",
            "245            1\n",
            "\n",
            "[247 rows x 1 columns]\n"
          ]
        }
      ]
    },
    {
      "cell_type": "code",
      "source": [
        "print(y_test)"
      ],
      "metadata": {
        "colab": {
          "base_uri": "https://localhost:8080/"
        },
        "id": "KA27FkztndUZ",
        "outputId": "f5502111-0535-4b44-bf7f-237062534abb"
      },
      "execution_count": 9,
      "outputs": [
        {
          "output_type": "stream",
          "name": "stdout",
          "text": [
            "     LUNG_CANCER\n",
            "80             1\n",
            "52             0\n",
            "254            0\n",
            "170            0\n",
            "264            0\n",
            "..           ...\n",
            "200            0\n",
            "30             1\n",
            "121            0\n",
            "249            1\n",
            "282            1\n",
            "\n",
            "[62 rows x 1 columns]\n"
          ]
        }
      ]
    },
    {
      "cell_type": "code",
      "source": [
        "from sklearn.tree import DecisionTreeClassifier\n",
        "from sklearn.metrics import accuracy_score"
      ],
      "metadata": {
        "id": "IkrOPyVYniIU"
      },
      "execution_count": 10,
      "outputs": []
    },
    {
      "cell_type": "code",
      "source": [
        "dt=DecisionTreeClassifier()\n",
        "cc=dt.fit(x_train,y_train)"
      ],
      "metadata": {
        "id": "LAgmNYqiny1g"
      },
      "execution_count": 11,
      "outputs": []
    },
    {
      "cell_type": "code",
      "source": [
        "yt=cc.predict(x_test)\n",
        "print(accuracy_score(yt,y_test))"
      ],
      "metadata": {
        "colab": {
          "base_uri": "https://localhost:8080/"
        },
        "id": "Pplk2iGYoVBo",
        "outputId": "655cbe1b-bcf2-44ee-e50b-eb811fb16208"
      },
      "execution_count": 12,
      "outputs": [
        {
          "output_type": "stream",
          "name": "stdout",
          "text": [
            "0.9516129032258065\n"
          ]
        }
      ]
    },
    {
      "cell_type": "code",
      "source": [
        "  from sklearn import tree\n",
        "  tree.plot_tree(cc)"
      ],
      "metadata": {
        "colab": {
          "base_uri": "https://localhost:8080/",
          "height": 1000
        },
        "id": "-WYHv25tocte",
        "outputId": "d553482e-1a91-4cb4-adb8-3084a33ad662"
      },
      "execution_count": 13,
      "outputs": [
        {
          "output_type": "execute_result",
          "data": {
            "text/plain": [
              "[Text(0.6815476190476191, 0.9545454545454546, 'X[8] <= 1.5\\ngini = 0.207\\nsamples = 247\\nvalue = [218, 29]'),\n",
              " Text(0.48214285714285715, 0.8636363636363636, 'X[13] <= 1.5\\ngini = 0.339\\nsamples = 111\\nvalue = [87, 24]'),\n",
              " Text(0.25, 0.7727272727272727, 'X[7] <= 1.5\\ngini = 0.473\\nsamples = 52\\nvalue = [32, 20]'),\n",
              " Text(0.11904761904761904, 0.6818181818181818, 'X[1] <= 72.0\\ngini = 0.444\\nsamples = 18\\nvalue = [6, 12]'),\n",
              " Text(0.09523809523809523, 0.5909090909090909, 'X[1] <= 54.0\\ngini = 0.415\\nsamples = 17\\nvalue = [5, 12]'),\n",
              " Text(0.047619047619047616, 0.5, 'X[0] <= 0.5\\ngini = 0.444\\nsamples = 3\\nvalue = [2, 1]'),\n",
              " Text(0.023809523809523808, 0.4090909090909091, 'gini = 0.0\\nsamples = 1\\nvalue = [0, 1]'),\n",
              " Text(0.07142857142857142, 0.4090909090909091, 'gini = 0.0\\nsamples = 2\\nvalue = [2, 0]'),\n",
              " Text(0.14285714285714285, 0.5, 'X[0] <= 0.5\\ngini = 0.337\\nsamples = 14\\nvalue = [3, 11]'),\n",
              " Text(0.11904761904761904, 0.4090909090909091, 'X[3] <= 1.5\\ngini = 0.469\\nsamples = 8\\nvalue = [3, 5]'),\n",
              " Text(0.09523809523809523, 0.3181818181818182, 'X[1] <= 59.5\\ngini = 0.278\\nsamples = 6\\nvalue = [1, 5]'),\n",
              " Text(0.07142857142857142, 0.22727272727272727, 'gini = 0.0\\nsamples = 1\\nvalue = [1, 0]'),\n",
              " Text(0.11904761904761904, 0.22727272727272727, 'gini = 0.0\\nsamples = 5\\nvalue = [0, 5]'),\n",
              " Text(0.14285714285714285, 0.3181818181818182, 'gini = 0.0\\nsamples = 2\\nvalue = [2, 0]'),\n",
              " Text(0.16666666666666666, 0.4090909090909091, 'gini = 0.0\\nsamples = 6\\nvalue = [0, 6]'),\n",
              " Text(0.14285714285714285, 0.5909090909090909, 'gini = 0.0\\nsamples = 1\\nvalue = [1, 0]'),\n",
              " Text(0.38095238095238093, 0.6818181818181818, 'X[11] <= 1.5\\ngini = 0.36\\nsamples = 34\\nvalue = [26, 8]'),\n",
              " Text(0.2857142857142857, 0.5909090909090909, 'X[3] <= 1.5\\ngini = 0.48\\nsamples = 15\\nvalue = [9, 6]'),\n",
              " Text(0.2619047619047619, 0.5, 'X[1] <= 60.5\\ngini = 0.496\\nsamples = 11\\nvalue = [5, 6]'),\n",
              " Text(0.21428571428571427, 0.4090909090909091, 'X[6] <= 1.5\\ngini = 0.444\\nsamples = 6\\nvalue = [4, 2]'),\n",
              " Text(0.19047619047619047, 0.3181818181818182, 'X[0] <= 0.5\\ngini = 0.444\\nsamples = 3\\nvalue = [1, 2]'),\n",
              " Text(0.16666666666666666, 0.22727272727272727, 'X[14] <= 1.5\\ngini = 0.5\\nsamples = 2\\nvalue = [1, 1]'),\n",
              " Text(0.14285714285714285, 0.13636363636363635, 'gini = 0.0\\nsamples = 1\\nvalue = [1, 0]'),\n",
              " Text(0.19047619047619047, 0.13636363636363635, 'gini = 0.0\\nsamples = 1\\nvalue = [0, 1]'),\n",
              " Text(0.21428571428571427, 0.22727272727272727, 'gini = 0.0\\nsamples = 1\\nvalue = [0, 1]'),\n",
              " Text(0.23809523809523808, 0.3181818181818182, 'gini = 0.0\\nsamples = 3\\nvalue = [3, 0]'),\n",
              " Text(0.30952380952380953, 0.4090909090909091, 'X[12] <= 1.5\\ngini = 0.32\\nsamples = 5\\nvalue = [1, 4]'),\n",
              " Text(0.2857142857142857, 0.3181818181818182, 'X[2] <= 1.5\\ngini = 0.5\\nsamples = 2\\nvalue = [1, 1]'),\n",
              " Text(0.2619047619047619, 0.22727272727272727, 'gini = 0.0\\nsamples = 1\\nvalue = [1, 0]'),\n",
              " Text(0.30952380952380953, 0.22727272727272727, 'gini = 0.0\\nsamples = 1\\nvalue = [0, 1]'),\n",
              " Text(0.3333333333333333, 0.3181818181818182, 'gini = 0.0\\nsamples = 3\\nvalue = [0, 3]'),\n",
              " Text(0.30952380952380953, 0.5, 'gini = 0.0\\nsamples = 4\\nvalue = [4, 0]'),\n",
              " Text(0.47619047619047616, 0.5909090909090909, 'X[1] <= 68.5\\ngini = 0.188\\nsamples = 19\\nvalue = [17, 2]'),\n",
              " Text(0.42857142857142855, 0.5, 'X[1] <= 55.5\\ngini = 0.111\\nsamples = 17\\nvalue = [16, 1]'),\n",
              " Text(0.40476190476190477, 0.4090909090909091, 'X[3] <= 1.5\\ngini = 0.444\\nsamples = 3\\nvalue = [2, 1]'),\n",
              " Text(0.38095238095238093, 0.3181818181818182, 'gini = 0.0\\nsamples = 2\\nvalue = [2, 0]'),\n",
              " Text(0.42857142857142855, 0.3181818181818182, 'gini = 0.0\\nsamples = 1\\nvalue = [0, 1]'),\n",
              " Text(0.4523809523809524, 0.4090909090909091, 'gini = 0.0\\nsamples = 14\\nvalue = [14, 0]'),\n",
              " Text(0.5238095238095238, 0.5, 'X[0] <= 0.5\\ngini = 0.5\\nsamples = 2\\nvalue = [1, 1]'),\n",
              " Text(0.5, 0.4090909090909091, 'gini = 0.0\\nsamples = 1\\nvalue = [0, 1]'),\n",
              " Text(0.5476190476190477, 0.4090909090909091, 'gini = 0.0\\nsamples = 1\\nvalue = [1, 0]'),\n",
              " Text(0.7142857142857143, 0.7727272727272727, 'X[5] <= 1.5\\ngini = 0.126\\nsamples = 59\\nvalue = [55, 4]'),\n",
              " Text(0.6904761904761905, 0.6818181818181818, 'X[9] <= 1.5\\ngini = 0.32\\nsamples = 20\\nvalue = [16, 4]'),\n",
              " Text(0.6428571428571429, 0.5909090909090909, 'X[0] <= 0.5\\ngini = 0.5\\nsamples = 6\\nvalue = [3, 3]'),\n",
              " Text(0.6190476190476191, 0.5, 'X[1] <= 59.5\\ngini = 0.375\\nsamples = 4\\nvalue = [1, 3]'),\n",
              " Text(0.5952380952380952, 0.4090909090909091, 'gini = 0.0\\nsamples = 2\\nvalue = [0, 2]'),\n",
              " Text(0.6428571428571429, 0.4090909090909091, 'X[1] <= 61.5\\ngini = 0.5\\nsamples = 2\\nvalue = [1, 1]'),\n",
              " Text(0.6190476190476191, 0.3181818181818182, 'gini = 0.0\\nsamples = 1\\nvalue = [1, 0]'),\n",
              " Text(0.6666666666666666, 0.3181818181818182, 'gini = 0.0\\nsamples = 1\\nvalue = [0, 1]'),\n",
              " Text(0.6666666666666666, 0.5, 'gini = 0.0\\nsamples = 2\\nvalue = [2, 0]'),\n",
              " Text(0.7380952380952381, 0.5909090909090909, 'X[4] <= 1.5\\ngini = 0.133\\nsamples = 14\\nvalue = [13, 1]'),\n",
              " Text(0.7142857142857143, 0.5, 'gini = 0.0\\nsamples = 1\\nvalue = [0, 1]'),\n",
              " Text(0.7619047619047619, 0.5, 'gini = 0.0\\nsamples = 13\\nvalue = [13, 0]'),\n",
              " Text(0.7380952380952381, 0.6818181818181818, 'gini = 0.0\\nsamples = 39\\nvalue = [39, 0]'),\n",
              " Text(0.8809523809523809, 0.8636363636363636, 'X[1] <= 29.5\\ngini = 0.071\\nsamples = 136\\nvalue = [131, 5]'),\n",
              " Text(0.8571428571428571, 0.7727272727272727, 'gini = 0.0\\nsamples = 1\\nvalue = [0, 1]'),\n",
              " Text(0.9047619047619048, 0.7727272727272727, 'X[3] <= 1.5\\ngini = 0.058\\nsamples = 135\\nvalue = [131, 4]'),\n",
              " Text(0.8809523809523809, 0.6818181818181818, 'X[10] <= 1.5\\ngini = 0.114\\nsamples = 66\\nvalue = [62, 4]'),\n",
              " Text(0.8333333333333334, 0.5909090909090909, 'X[1] <= 59.5\\ngini = 0.48\\nsamples = 5\\nvalue = [3, 2]'),\n",
              " Text(0.8095238095238095, 0.5, 'gini = 0.0\\nsamples = 2\\nvalue = [0, 2]'),\n",
              " Text(0.8571428571428571, 0.5, 'gini = 0.0\\nsamples = 3\\nvalue = [3, 0]'),\n",
              " Text(0.9285714285714286, 0.5909090909090909, 'X[7] <= 1.5\\ngini = 0.063\\nsamples = 61\\nvalue = [59, 2]'),\n",
              " Text(0.9047619047619048, 0.5, 'X[6] <= 1.5\\ngini = 0.18\\nsamples = 20\\nvalue = [18, 2]'),\n",
              " Text(0.8809523809523809, 0.4090909090909091, 'X[14] <= 1.5\\ngini = 0.346\\nsamples = 9\\nvalue = [7, 2]'),\n",
              " Text(0.8571428571428571, 0.3181818181818182, 'gini = 0.0\\nsamples = 4\\nvalue = [4, 0]'),\n",
              " Text(0.9047619047619048, 0.3181818181818182, 'X[9] <= 1.5\\ngini = 0.48\\nsamples = 5\\nvalue = [3, 2]'),\n",
              " Text(0.8809523809523809, 0.22727272727272727, 'gini = 0.0\\nsamples = 1\\nvalue = [1, 0]'),\n",
              " Text(0.9285714285714286, 0.22727272727272727, 'X[1] <= 61.0\\ngini = 0.5\\nsamples = 4\\nvalue = [2, 2]'),\n",
              " Text(0.9047619047619048, 0.13636363636363635, 'gini = 0.0\\nsamples = 1\\nvalue = [1, 0]'),\n",
              " Text(0.9523809523809523, 0.13636363636363635, 'X[1] <= 66.5\\ngini = 0.444\\nsamples = 3\\nvalue = [1, 2]'),\n",
              " Text(0.9285714285714286, 0.045454545454545456, 'gini = 0.5\\nsamples = 2\\nvalue = [1, 1]'),\n",
              " Text(0.9761904761904762, 0.045454545454545456, 'gini = 0.0\\nsamples = 1\\nvalue = [0, 1]'),\n",
              " Text(0.9285714285714286, 0.4090909090909091, 'gini = 0.0\\nsamples = 11\\nvalue = [11, 0]'),\n",
              " Text(0.9523809523809523, 0.5, 'gini = 0.0\\nsamples = 41\\nvalue = [41, 0]'),\n",
              " Text(0.9285714285714286, 0.6818181818181818, 'gini = 0.0\\nsamples = 69\\nvalue = [69, 0]')]"
            ]
          },
          "metadata": {},
          "execution_count": 13
        },
        {
          "output_type": "display_data",
          "data": {
            "text/plain": [
              "<Figure size 432x288 with 1 Axes>"
            ],
            "image/png": "[encoded data removed]"
          },
          "metadata": {
            "needs_background": "light"
          }
        }
      ]
    },
    {
      "cell_type": "code",
      "source": [
        "from sklearn import svm\n",
        "from sklearn.metrics import accuracy_score\n",
        "cc=svm.SVC(kernel='linear')\n",
        "\n",
        "cl=cc.fit(x_train,y_train)\n",
        "yp=cl.predict(x_test)\n",
        "print(yp)"
      ],
      "metadata": {
        "id": "eSPjKCHaqvkf",
        "colab": {
          "base_uri": "https://localhost:8080/"
        },
        "outputId": "f0b9e02c-7e32-47f9-dee7-f3931149582d"
      },
      "execution_count": 15,
      "outputs": [
        {
          "output_type": "stream",
          "name": "stdout",
          "text": [
            "[1 0 0 0 0 0 0 0 1 0 0 1 0 0 0 0 0 0 0 0 0 0 0 1 0 0 1 0 0 0 0 1 0 0 0 0 0\n",
            " 0 0 1 0 0 0 0 0 0 0 0 0 0 0 0 0 0 0 0 0 1 1 0 1 1]\n"
          ]
        },
        {
          "output_type": "stream",
          "name": "stderr",
          "text": [
            "/usr/local/lib/python3.7/dist-packages/sklearn/utils/validation.py:993: DataConversionWarning: A column-vector y was passed when a 1d array was expected. Please change the shape of y to (n_samples, ), for example using ravel().\n",
            "  y = column_or_1d(y, warn=True)\n"
          ]
        }
      ]
    },
    {
      "cell_type": "code",
      "source": [
        "print(accuracy_score(y_test,yp))"
      ],
      "metadata": {
        "id": "FjyjYR3PvZHZ",
        "colab": {
          "base_uri": "https://localhost:8080/"
        },
        "outputId": "5db62a42-8549-4798-f895-6c7fd2800538"
      },
      "execution_count": 16,
      "outputs": [
        {
          "output_type": "stream",
          "name": "stdout",
          "text": [
            "0.9193548387096774\n"
          ]
        }
      ]
    },
    {
      "cell_type": "code",
      "source": [
        ""
      ],
      "metadata": {
        "id": "zlY5lNAly7-y"
      },
      "execution_count": null,
      "outputs": []
    }
  ]
}