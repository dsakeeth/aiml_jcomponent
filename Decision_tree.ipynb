{
  "nbformat": 4,
  "nbformat_minor": 0,
  "metadata": {
    "colab": {
      "name": "Decision_tree",
      "provenance": [],
      "collapsed_sections": []
    },
    "kernelspec": {
      "name": "python3",
      "display_name": "Python 3"
    },
    "language_info": {
      "name": "python"
    }
  },
  "cells": [
    {
      "cell_type": "code",
      "source": [
        "from google.colab import drive\n",
        "drive.mount('/content/drive')"
      ],
      "metadata": {
        "colab": {
          "base_uri": "https://localhost:8080/"
        },
        "id": "jugugmqek_Pq",
        "outputId": "39d508d9-d4cc-4f14-ff60-c301ffd5532e"
      },
      "execution_count": 3,
      "outputs": [
        {
          "output_type": "stream",
          "name": "stdout",
          "text": [
            "Drive already mounted at /content/drive; to attempt to forcibly remount, call drive.mount(\"/content/drive\", force_remount=True).\n"
          ]
        }
      ]
    },
    {
      "cell_type": "code",
      "source": [
        "import pandas as pd\n",
        "import numpy as np\n",
        "import matplotlib.pyplot as plt\n",
        "import math"
      ],
      "metadata": {
        "id": "IMoOTUsxOQwd"
      },
      "execution_count": 4,
      "outputs": []
    },
    {
      "cell_type": "code",
      "source": [
        "d=pd.read_csv('/content/drive/MyDrive/AIMLJCOMPNENT.csv')"
      ],
      "metadata": {
        "id": "1-k_YbWaPDkk"
      },
      "execution_count": 5,
      "outputs": []
    },
    {
      "cell_type": "code",
      "source": [
        "x=d.iloc[:,:-1]\n",
        "y=d.iloc[:,-1]"
      ],
      "metadata": {
        "id": "5s1XlSunmE9E"
      },
      "execution_count": 6,
      "outputs": []
    },
    {
      "cell_type": "code",
      "source": [
        "from sklearn.model_selection import train_test_split\n",
        "x_train,x_test,y_train,y_test=train_test_split(x,y,test_size=0.2,random_state=15)"
      ],
      "metadata": {
        "id": "skvIj6CfmPL7"
      },
      "execution_count": 7,
      "outputs": []
    },
    {
      "cell_type": "code",
      "source": [
        "print(x_train)"
      ],
      "metadata": {
        "colab": {
          "base_uri": "https://localhost:8080/"
        },
        "id": "V3UoW6xjm58q",
        "outputId": "4a28f92d-953a-412b-aefc-c20ea3780e70"
      },
      "execution_count": 8,
      "outputs": [
        {
          "output_type": "stream",
          "name": "stdout",
          "text": [
            "     GENDER  AGE  S0OKING  YELLOW_1INGERS  ANXIETY  PEER_PRESSURE  \\\n",
            "127       0   58        2               2        2              2   \n",
            "97        0   59        2               1        1              2   \n",
            "142       0   65        2               2        2              2   \n",
            "50        1   56        1               1        1              2   \n",
            "106       1   61        2               2        2              2   \n",
            "..      ...  ...      ...             ...      ...            ...   \n",
            "199       1   55        2               1        1              2   \n",
            "155       0   75        2               2        2              2   \n",
            "156       0   47        2               2        1              1   \n",
            "133       0   76        2               1        1              1   \n",
            "245       0   59        1               1        1              2   \n",
            "\n",
            "     CHRONIC DISEASE  1ATIGUE   ALLERGY   WHEEZING  ALCOHOL CONSU0ING  \\\n",
            "127                2         1         1         1                  2   \n",
            "97                 1         1         1         1                  2   \n",
            "142                1         2         2         1                  1   \n",
            "50                 2         2         2         2                  2   \n",
            "106                2         2         1         1                  1   \n",
            "..               ...       ...       ...       ...                ...   \n",
            "199                2         2         2         2                  2   \n",
            "155                2         1         1         1                  1   \n",
            "156                2         1         1         1                  1   \n",
            "133                1         2         2         2                  2   \n",
            "245                1         2         1         2                  1   \n",
            "\n",
            "     COUGHING  SHORTNESS O1 BREATH  SWALLOWING DI11ICULTY  CHEST PAIN  \n",
            "127         1                    1                      2           2  \n",
            "97          2                    2                      1           1  \n",
            "142         1                    2                      2           1  \n",
            "50          1                    1                      1           2  \n",
            "106         1                    2                      2           1  \n",
            "..        ...                  ...                    ...         ...  \n",
            "199         1                    1                      2           2  \n",
            "155         1                    1                      1           2  \n",
            "156         1                    1                      1           2  \n",
            "133         2                    2                      1           2  \n",
            "245         1                    2                      1           2  \n",
            "\n",
            "[247 rows x 15 columns]\n"
          ]
        }
      ]
    },
    {
      "cell_type": "code",
      "source": [
        "print(x_test)"
      ],
      "metadata": {
        "colab": {
          "base_uri": "https://localhost:8080/"
        },
        "id": "VCiJH-WcnQAz",
        "outputId": "13d97a8c-e98e-4a4c-f9f6-a22696633c64"
      },
      "execution_count": 9,
      "outputs": [
        {
          "output_type": "stream",
          "name": "stdout",
          "text": [
            "     GENDER  AGE  S0OKING  YELLOW_1INGERS  ANXIETY  PEER_PRESSURE  \\\n",
            "80        1   58        1               1        1              1   \n",
            "52        1   54        2               1        1              2   \n",
            "254       0   74        1               2        1              1   \n",
            "170       0   54        1               2        1              2   \n",
            "264       0   70        2               1        1              1   \n",
            "..      ...  ...      ...             ...      ...            ...   \n",
            "200       1   63        1               1        1              2   \n",
            "30        1   57        2               2        1              1   \n",
            "121       0   64        1               1        1              1   \n",
            "249       0   68        2               1        2              1   \n",
            "282       0   46        1               2        2              1   \n",
            "\n",
            "     CHRONIC DISEASE  1ATIGUE   ALLERGY   WHEEZING  ALCOHOL CONSU0ING  \\\n",
            "80                 1         2         1         1                  1   \n",
            "52                 1         2         2         2                  2   \n",
            "254                2         2         2         2                  2   \n",
            "170                2         2         2         2                  2   \n",
            "264                1         2         1         2                  2   \n",
            "..               ...       ...       ...       ...                ...   \n",
            "200                1         1         1         2                  2   \n",
            "30                 1         1         1         1                  1   \n",
            "121                2         2         2         2                  2   \n",
            "249                1         2         1         1                  1   \n",
            "282                1         1         1         1                  1   \n",
            "\n",
            "     COUGHING  SHORTNESS O1 BREATH  SWALLOWING DI11ICULTY  CHEST PAIN  \n",
            "80          1                    2                      1           1  \n",
            "52          2                    1                      2           2  \n",
            "254         2                    2                      1           2  \n",
            "170         2                    1                      2           2  \n",
            "264         2                    2                      1           2  \n",
            "..        ...                  ...                    ...         ...  \n",
            "200         1                    1                      2           2  \n",
            "30          1                    2                      1           1  \n",
            "121         2                    2                      1           2  \n",
            "249         1                    1                      1           1  \n",
            "282         1                    1                      2           2  \n",
            "\n",
            "[62 rows x 15 columns]\n"
          ]
        }
      ]
    },
    {
      "cell_type": "code",
      "source": [
        "print(y_train)"
      ],
      "metadata": {
        "colab": {
          "base_uri": "https://localhost:8080/"
        },
        "id": "7VVhokjjnW5a",
        "outputId": "45db0fdf-f1ae-4411-920c-0bfe5340a266"
      },
      "execution_count": 10,
      "outputs": [
        {
          "output_type": "stream",
          "name": "stdout",
          "text": [
            "127    0\n",
            "97     0\n",
            "142    0\n",
            "50     0\n",
            "106    0\n",
            "      ..\n",
            "199    0\n",
            "155    0\n",
            "156    1\n",
            "133    0\n",
            "245    1\n",
            "Name: LUNG_CANCER, Length: 247, dtype: int64\n"
          ]
        }
      ]
    },
    {
      "cell_type": "code",
      "source": [
        "print(y_test)"
      ],
      "metadata": {
        "colab": {
          "base_uri": "https://localhost:8080/"
        },
        "id": "KA27FkztndUZ",
        "outputId": "af2aee8e-a127-48ea-9175-6c4be6c62954"
      },
      "execution_count": 11,
      "outputs": [
        {
          "output_type": "stream",
          "name": "stdout",
          "text": [
            "80     1\n",
            "52     0\n",
            "254    0\n",
            "170    0\n",
            "264    0\n",
            "      ..\n",
            "200    0\n",
            "30     1\n",
            "121    0\n",
            "249    1\n",
            "282    1\n",
            "Name: LUNG_CANCER, Length: 62, dtype: int64\n"
          ]
        }
      ]
    },
    {
      "cell_type": "code",
      "source": [
        "from sklearn.tree import DecisionTreeClassifier\n",
        "from sklearn.metrics import accuracy_score"
      ],
      "metadata": {
        "id": "IkrOPyVYniIU"
      },
      "execution_count": 12,
      "outputs": []
    },
    {
      "cell_type": "code",
      "source": [
        "dt=DecisionTreeClassifier()\n",
        "cc=dt.fit(x_train,y_train)"
      ],
      "metadata": {
        "id": "LAgmNYqiny1g"
      },
      "execution_count": 13,
      "outputs": []
    },
    {
      "cell_type": "code",
      "source": [
        "yt=cc.predict(x_test)\n",
        "print(accuracy_score(yt,y_test))"
      ],
      "metadata": {
        "colab": {
          "base_uri": "https://localhost:8080/"
        },
        "id": "Pplk2iGYoVBo",
        "outputId": "76d92487-8207-4e40-cfc2-765dcab73b0c"
      },
      "execution_count": 14,
      "outputs": [
        {
          "output_type": "stream",
          "name": "stdout",
          "text": [
            "0.9193548387096774\n"
          ]
        }
      ]
    },
    {
      "cell_type": "code",
      "source": [
        "  from sklearn import tree\n",
        "  tree.plot_tree(cc)"
      ],
      "metadata": {
        "colab": {
          "base_uri": "https://localhost:8080/",
          "height": 1000
        },
        "id": "-WYHv25tocte",
        "outputId": "ef9c4c56-16e0-464d-c38c-d1a88d15f935"
      },
      "execution_count": 15,
      "outputs": [
        {
          "output_type": "execute_result",
          "data": {
            "text/plain": [
              "[Text(0.698170731707317, 0.95, 'X[8] <= 1.5\\ngini = 0.207\\nsamples = 247\\nvalue = [218, 29]'),\n",
              " Text(0.49390243902439024, 0.85, 'X[13] <= 1.5\\ngini = 0.339\\nsamples = 111\\nvalue = [87, 24]'),\n",
              " Text(0.25609756097560976, 0.75, 'X[7] <= 1.5\\ngini = 0.473\\nsamples = 52\\nvalue = [32, 20]'),\n",
              " Text(0.12195121951219512, 0.65, 'X[1] <= 72.0\\ngini = 0.444\\nsamples = 18\\nvalue = [6, 12]'),\n",
              " Text(0.0975609756097561, 0.55, 'X[1] <= 54.0\\ngini = 0.415\\nsamples = 17\\nvalue = [5, 12]'),\n",
              " Text(0.04878048780487805, 0.45, 'X[1] <= 48.0\\ngini = 0.444\\nsamples = 3\\nvalue = [2, 1]'),\n",
              " Text(0.024390243902439025, 0.35, 'gini = 0.0\\nsamples = 1\\nvalue = [0, 1]'),\n",
              " Text(0.07317073170731707, 0.35, 'gini = 0.0\\nsamples = 2\\nvalue = [2, 0]'),\n",
              " Text(0.14634146341463414, 0.45, 'X[0] <= 0.5\\ngini = 0.337\\nsamples = 14\\nvalue = [3, 11]'),\n",
              " Text(0.12195121951219512, 0.35, 'X[3] <= 1.5\\ngini = 0.469\\nsamples = 8\\nvalue = [3, 5]'),\n",
              " Text(0.0975609756097561, 0.25, 'X[1] <= 59.5\\ngini = 0.278\\nsamples = 6\\nvalue = [1, 5]'),\n",
              " Text(0.07317073170731707, 0.15, 'gini = 0.0\\nsamples = 1\\nvalue = [1, 0]'),\n",
              " Text(0.12195121951219512, 0.15, 'gini = 0.0\\nsamples = 5\\nvalue = [0, 5]'),\n",
              " Text(0.14634146341463414, 0.25, 'gini = 0.0\\nsamples = 2\\nvalue = [2, 0]'),\n",
              " Text(0.17073170731707318, 0.35, 'gini = 0.0\\nsamples = 6\\nvalue = [0, 6]'),\n",
              " Text(0.14634146341463414, 0.55, 'gini = 0.0\\nsamples = 1\\nvalue = [1, 0]'),\n",
              " Text(0.3902439024390244, 0.65, 'X[11] <= 1.5\\ngini = 0.36\\nsamples = 34\\nvalue = [26, 8]'),\n",
              " Text(0.2926829268292683, 0.55, 'X[3] <= 1.5\\ngini = 0.48\\nsamples = 15\\nvalue = [9, 6]'),\n",
              " Text(0.2682926829268293, 0.45, 'X[1] <= 60.5\\ngini = 0.496\\nsamples = 11\\nvalue = [5, 6]'),\n",
              " Text(0.21951219512195122, 0.35, 'X[6] <= 1.5\\ngini = 0.444\\nsamples = 6\\nvalue = [4, 2]'),\n",
              " Text(0.1951219512195122, 0.25, 'X[4] <= 1.5\\ngini = 0.444\\nsamples = 3\\nvalue = [1, 2]'),\n",
              " Text(0.17073170731707318, 0.15, 'X[12] <= 1.5\\ngini = 0.5\\nsamples = 2\\nvalue = [1, 1]'),\n",
              " Text(0.14634146341463414, 0.05, 'gini = 0.0\\nsamples = 1\\nvalue = [1, 0]'),\n",
              " Text(0.1951219512195122, 0.05, 'gini = 0.0\\nsamples = 1\\nvalue = [0, 1]'),\n",
              " Text(0.21951219512195122, 0.15, 'gini = 0.0\\nsamples = 1\\nvalue = [0, 1]'),\n",
              " Text(0.24390243902439024, 0.25, 'gini = 0.0\\nsamples = 3\\nvalue = [3, 0]'),\n",
              " Text(0.3170731707317073, 0.35, 'X[1] <= 68.5\\ngini = 0.32\\nsamples = 5\\nvalue = [1, 4]'),\n",
              " Text(0.2926829268292683, 0.25, 'gini = 0.0\\nsamples = 3\\nvalue = [0, 3]'),\n",
              " Text(0.34146341463414637, 0.25, 'X[1] <= 78.0\\ngini = 0.5\\nsamples = 2\\nvalue = [1, 1]'),\n",
              " Text(0.3170731707317073, 0.15, 'gini = 0.0\\nsamples = 1\\nvalue = [1, 0]'),\n",
              " Text(0.36585365853658536, 0.15, 'gini = 0.0\\nsamples = 1\\nvalue = [0, 1]'),\n",
              " Text(0.3170731707317073, 0.45, 'gini = 0.0\\nsamples = 4\\nvalue = [4, 0]'),\n",
              " Text(0.4878048780487805, 0.55, 'X[1] <= 68.5\\ngini = 0.188\\nsamples = 19\\nvalue = [17, 2]'),\n",
              " Text(0.43902439024390244, 0.45, 'X[1] <= 55.5\\ngini = 0.111\\nsamples = 17\\nvalue = [16, 1]'),\n",
              " Text(0.4146341463414634, 0.35, 'X[1] <= 53.5\\ngini = 0.444\\nsamples = 3\\nvalue = [2, 1]'),\n",
              " Text(0.3902439024390244, 0.25, 'gini = 0.0\\nsamples = 2\\nvalue = [2, 0]'),\n",
              " Text(0.43902439024390244, 0.25, 'gini = 0.0\\nsamples = 1\\nvalue = [0, 1]'),\n",
              " Text(0.4634146341463415, 0.35, 'gini = 0.0\\nsamples = 14\\nvalue = [14, 0]'),\n",
              " Text(0.5365853658536586, 0.45, 'X[14] <= 1.5\\ngini = 0.5\\nsamples = 2\\nvalue = [1, 1]'),\n",
              " Text(0.5121951219512195, 0.35, 'gini = 0.0\\nsamples = 1\\nvalue = [1, 0]'),\n",
              " Text(0.5609756097560976, 0.35, 'gini = 0.0\\nsamples = 1\\nvalue = [0, 1]'),\n",
              " Text(0.7317073170731707, 0.75, 'X[5] <= 1.5\\ngini = 0.126\\nsamples = 59\\nvalue = [55, 4]'),\n",
              " Text(0.7073170731707317, 0.65, 'X[9] <= 1.5\\ngini = 0.32\\nsamples = 20\\nvalue = [16, 4]'),\n",
              " Text(0.6585365853658537, 0.55, 'X[0] <= 0.5\\ngini = 0.5\\nsamples = 6\\nvalue = [3, 3]'),\n",
              " Text(0.6341463414634146, 0.45, 'X[10] <= 1.5\\ngini = 0.375\\nsamples = 4\\nvalue = [1, 3]'),\n",
              " Text(0.6097560975609756, 0.35, 'gini = 0.0\\nsamples = 2\\nvalue = [0, 2]'),\n",
              " Text(0.6585365853658537, 0.35, 'X[1] <= 61.5\\ngini = 0.5\\nsamples = 2\\nvalue = [1, 1]'),\n",
              " Text(0.6341463414634146, 0.25, 'gini = 0.0\\nsamples = 1\\nvalue = [1, 0]'),\n",
              " Text(0.6829268292682927, 0.25, 'gini = 0.0\\nsamples = 1\\nvalue = [0, 1]'),\n",
              " Text(0.6829268292682927, 0.45, 'gini = 0.0\\nsamples = 2\\nvalue = [2, 0]'),\n",
              " Text(0.7560975609756098, 0.55, 'X[4] <= 1.5\\ngini = 0.133\\nsamples = 14\\nvalue = [13, 1]'),\n",
              " Text(0.7317073170731707, 0.45, 'gini = 0.0\\nsamples = 1\\nvalue = [0, 1]'),\n",
              " Text(0.7804878048780488, 0.45, 'gini = 0.0\\nsamples = 13\\nvalue = [13, 0]'),\n",
              " Text(0.7560975609756098, 0.65, 'gini = 0.0\\nsamples = 39\\nvalue = [39, 0]'),\n",
              " Text(0.9024390243902439, 0.85, 'X[1] <= 29.5\\ngini = 0.071\\nsamples = 136\\nvalue = [131, 5]'),\n",
              " Text(0.8780487804878049, 0.75, 'gini = 0.0\\nsamples = 1\\nvalue = [0, 1]'),\n",
              " Text(0.926829268292683, 0.75, 'X[3] <= 1.5\\ngini = 0.058\\nsamples = 135\\nvalue = [131, 4]'),\n",
              " Text(0.9024390243902439, 0.65, 'X[10] <= 1.5\\ngini = 0.114\\nsamples = 66\\nvalue = [62, 4]'),\n",
              " Text(0.8536585365853658, 0.55, 'X[1] <= 59.5\\ngini = 0.48\\nsamples = 5\\nvalue = [3, 2]'),\n",
              " Text(0.8292682926829268, 0.45, 'gini = 0.0\\nsamples = 2\\nvalue = [0, 2]'),\n",
              " Text(0.8780487804878049, 0.45, 'gini = 0.0\\nsamples = 3\\nvalue = [3, 0]'),\n",
              " Text(0.9512195121951219, 0.55, 'X[7] <= 1.5\\ngini = 0.063\\nsamples = 61\\nvalue = [59, 2]'),\n",
              " Text(0.926829268292683, 0.45, 'X[6] <= 1.5\\ngini = 0.18\\nsamples = 20\\nvalue = [18, 2]'),\n",
              " Text(0.9024390243902439, 0.35, 'X[1] <= 61.0\\ngini = 0.346\\nsamples = 9\\nvalue = [7, 2]'),\n",
              " Text(0.8780487804878049, 0.25, 'gini = 0.0\\nsamples = 4\\nvalue = [4, 0]'),\n",
              " Text(0.926829268292683, 0.25, 'X[1] <= 69.5\\ngini = 0.48\\nsamples = 5\\nvalue = [3, 2]'),\n",
              " Text(0.9024390243902439, 0.15, 'X[1] <= 66.5\\ngini = 0.444\\nsamples = 3\\nvalue = [1, 2]'),\n",
              " Text(0.8780487804878049, 0.05, 'gini = 0.5\\nsamples = 2\\nvalue = [1, 1]'),\n",
              " Text(0.926829268292683, 0.05, 'gini = 0.0\\nsamples = 1\\nvalue = [0, 1]'),\n",
              " Text(0.9512195121951219, 0.15, 'gini = 0.0\\nsamples = 2\\nvalue = [2, 0]'),\n",
              " Text(0.9512195121951219, 0.35, 'gini = 0.0\\nsamples = 11\\nvalue = [11, 0]'),\n",
              " Text(0.975609756097561, 0.45, 'gini = 0.0\\nsamples = 41\\nvalue = [41, 0]'),\n",
              " Text(0.9512195121951219, 0.65, 'gini = 0.0\\nsamples = 69\\nvalue = [69, 0]')]"
            ]
          },
          "metadata": {},
          "execution_count": 15
        },
        {
          "output_type": "display_data",
          "data": {
            "text/plain": [
              "<Figure size 432x288 with 1 Axes>"
            ],
            "image/png": "[encoded data removed]"
          },
          "metadata": {
            "needs_background": "light"
          }
        }
      ]
    },
    {
      "cell_type": "code",
      "source": [
        ""
      ],
      "metadata": {
        "id": "eSPjKCHaqvkf"
      },
      "execution_count": 15,
      "outputs": []
    },
    {
      "cell_type": "code",
      "source": [
        ""
      ],
      "metadata": {
        "id": "FjyjYR3PvZHZ"
      },
      "execution_count": 15,
      "outputs": []
    }
  ]
}