{
  "nbformat": 4,
  "nbformat_minor": 0,
  "metadata": {
    "colab": {
      "name": "AIMLJC-2",
      "provenance": [],
      "collapsed_sections": []
    },
    "kernelspec": {
      "name": "python3",
      "display_name": "Python 3"
    },
    "language_info": {
      "name": "python"
    }
  },
  "cells": [
    {
      "cell_type": "code",
      "source": [
        "import pandas as pd\n",
        "import numpy as np\n",
        "import matplotlib.pyplot as plt\n",
        "import math"
      ],
      "metadata": {
        "id": "IMoOTUsxOQwd"
      },
      "execution_count": 2,
      "outputs": []
    },
    {
      "cell_type": "code",
      "execution_count": 4,
      "metadata": {
        "colab": {
          "base_uri": "https://localhost:8080/",
          "height": 354
        },
        "id": "dB1kZfXBOMW-",
        "outputId": "eb5b1498-c306-4428-e5df-f764dfbc9e8f"
      },
      "outputs": [
        {
          "output_type": "stream",
          "name": "stdout",
          "text": [
            "[1.4329792912729316, 1.1985341500895599, 1.184057159655058, 1.1697719230825019, 1.141756852041366, 1.128017563136086, 1.114451100061426, 1.101053168840172, 1.0878196335637027, 1.0747465087275787, 1.0618299520261094, 1.0490662575733085, 1.0364518495203134, 1.0239832760417644, 1.0116572036658438, 1.0116572036658438, 0.9994704119246715, 0.987419788303581, 0.9755023234694583, 0.9755023234694583, 0.9637151067598426, 0.9637151067598426, 0.9520553219158775, 0.9405202430434538, 0.9405202430434538, 0.9405202430434538, 0.9291072307880663, 0.9291072307880663, 0.9178137287099492, 0.9178137287099492, 0.9178137287099492, 0.9066372598470384, 0.9066372598470384, 0.9066372598470384, 0.9066372598470384, 0.8955754234542014, 0.8955754234542014, 0.8955754234542014, 0.8955754234542014, 0.8955754234542014, 0.8955754234542014, 0.8846258919079987, 0.8846258919079987, 0.8846258919079987, 0.8846258919079987, 0.8846258919079987, 0.8846258919079987, 0.8846258919079987, 0.8846258919079987, 0.8846258919079987, 0.8846258919079987, 0.8846258919079987, 0.8846258919079987, 0.8846258919079987, 0.8737864077669902, 0.8737864077669902, 0.8737864077669902, 0.8737864077669902, 0.8737864077669902, 0.8737864077669902, 0.8737864077669902, 0.8737864077669902, 0.8737864077669902, 0.8737864077669902, 0.8737864077669902, 0.8737864077669902, 0.8737864077669902, 0.8737864077669902, 0.8737864077669902, 0.8737864077669902, 0.8737864077669902, 0.8737864077669902, 0.8737864077669902, 0.8737864077669902, 0.8737864077669902, 0.8737864077669902, 0.8737864077669902, 0.8737864077669902, 0.8737864077669902, 0.8737864077669902, 0.8737864077669902, 0.8737864077669902, 0.8737864077669902, 0.8737864077669902, 0.8737864077669902, 0.8737864077669902, 0.8737864077669902, 0.8737864077669902, 0.8737864077669902, 0.8737864077669902, 0.8737864077669902, 0.8737864077669902, 0.8737864077669902, 0.8737864077669902, 0.8737864077669902, 0.8737864077669902, 0.8737864077669902, 0.8737864077669902, 0.8737864077669902, 0.8737864077669902]\n",
            "[1, 1, 1, 1, 1, 1, 1, 1, 1, 1, 1, 1, 1, 1, 1, 1]\n",
            "54\n"
          ]
        },
        {
          "output_type": "execute_result",
          "data": {
            "text/plain": [
              "[<matplotlib.lines.Line2D at 0x7f6b471a1d10>]"
            ]
          },
          "metadata": {},
          "execution_count": 4
        },
        {
          "output_type": "display_data",
          "data": {
            "text/plain": [
              "<Figure size 432x288 with 1 Axes>"
            ],
            "image/png": "[encoded data removed]"
          },
          "metadata": {
            "needs_background": "light"
          }
        }
      ],
      "source": [
        "w_values=[]\n",
        "error_rate=[]\n",
        "def Linear(w):\n",
        "    data=pd.read_csv('/AIMLJCOMPNENT.csv')\n",
        "    data_x=data.iloc[:,0:15]\n",
        "    data_y=data.iloc[:,15]\n",
        "    data_x=data_x.apply(lambda rec:(rec-rec.mean())/rec.std(),axis=0)\n",
        "    data_x.insert(0,'w0',1)\n",
        "    x=np.array(data_x)\n",
        "    y=np.array(data_y)\n",
        "    #print(data_x)\n",
        "    #print(data_y)\n",
        "    y_predict=[]\n",
        "    for i in range(0,309):\n",
        "        c=0\n",
        "        for j in range(0,len(w)):\n",
        "            c+=w[j]*x[i][j]\n",
        "        y_predict.append(c)\n",
        "        w_values.append(w)\n",
        "    y_f_x=[]\n",
        "    for i in range(0,309):\n",
        "        den=(1+math.exp(-y_predict[i]))\n",
        "        val=1/den\n",
        "        y_f_x.append(round(val,2))\n",
        "    j_theta=[]\n",
        "    for i in range(0,309):\n",
        "        if (y_f_x[i]!=0):\n",
        "            j_theta.append((y[i]*np.log2(y_f_x[i]))+(1-y[i])*(1-np.log2(y_f_x[i])))\n",
        "        else:\n",
        "            j_theta.append(0)\n",
        "    j_t_sum=np.array(j_theta).mean()\n",
        "      # print(round(j_t_sum,3))\n",
        "    error_rate.append(j_t_sum)\n",
        "    y_grad=[]\n",
        "    for j in range(0,16):\n",
        "        x_g=0\n",
        "        for i in range(0,309):\n",
        "            x_g+=(x[i][j]*(y[i]-y_f_x[i]))\n",
        "        y_grad.append(x_g)\n",
        "    new_y=[]\n",
        "    for j in range(0,16):\n",
        "        new_y.append(round(w[j]-(0.1)*(1/303)*y_grad[j],4))\n",
        "        return new_y\n",
        "w=[1,1,1,1,1,1,1,1,1,1,1,1,1,1,1,1]\n",
        "for i in range(100):\n",
        "    w=Linear(w)\n",
        "print(error_rate)\n",
        "z=np.array(error_rate).min()\n",
        "index=error_rate.index(z)\n",
        "print(w_values[index])\n",
        "print(index)\n",
        "#min value 0.8737864077669902\n",
        "iter=np.arange(100)\n",
        "plt.plot(iter,error_rate)"
      ]
    },
    {
      "cell_type": "code",
      "source": [
        ""
      ],
      "metadata": {
        "id": "1-k_YbWaPDkk"
      },
      "execution_count": null,
      "outputs": []
    }
  ]
}